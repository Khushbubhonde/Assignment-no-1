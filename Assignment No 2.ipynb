{
 "cells": [
  {
   "cell_type": "code",
   "execution_count": null,
   "id": "c0f5cde9",
   "metadata": {},
   "outputs": [],
   "source": [
    "#Q1. Name the keyword which helps in writing code involving conditions.\n",
    "#Ans: if"
   ]
  },
  {
   "cell_type": "code",
   "execution_count": null,
   "id": "c7203abd",
   "metadata": {},
   "outputs": [],
   "source": [
    "#Q2. Write the syntax of a simple if statement.\n",
    "#Ans:  if < Condition> :\n",
    "#    Execute this"
   ]
  },
  {
   "cell_type": "code",
   "execution_count": 4,
   "id": "79f90965",
   "metadata": {},
   "outputs": [
    {
     "name": "stdout",
     "output_type": "stream",
     "text": [
      "Enter your age:18\n",
      "you are eligible for voting\n"
     ]
    }
   ],
   "source": [
    "#Q3. Write a program to check whether a person is eligible for voting or not. (accept age from user)\n",
    "\n",
    "age=int(input(\"Enter your age:\"))\n",
    "if age>=18:\n",
    "    print(\"you are eligible for voting\")\n",
    "else:\n",
    "     print(\"you are not eligible for voting\")\n"
   ]
  },
  {
   "cell_type": "code",
   "execution_count": null,
   "id": "e4223232",
   "metadata": {},
   "outputs": [],
   "source": [
    "#Q4. What is the output of the given below program?\n",
    "\n",
    "#if 1 + 3 == 7:\n",
    "   # print(\"Hello\")\n",
    "#else:\n",
    "    #print(\"Know Program\")\n",
    "    #Ans:   Know Program\n"
   ]
  },
  {
   "cell_type": "code",
   "execution_count": 10,
   "id": "db0a7382",
   "metadata": {},
   "outputs": [
    {
     "name": "stdout",
     "output_type": "stream",
     "text": [
      "Enter the number:48\n",
      "The number is even.\n"
     ]
    }
   ],
   "source": [
    "# Q5. Write a program to check whether a number entered by user is even or odd.\n",
    "num=int(input(\"Enter the number:\"))\n",
    "\n",
    "if num%2==0:\n",
    "    print(\"The number is even.\")\n",
    "else:\n",
    "    print(\"The number is odd.\")\n"
   ]
  },
  {
   "cell_type": "code",
   "execution_count": 15,
   "id": "1878a27d",
   "metadata": {},
   "outputs": [
    {
     "name": "stdout",
     "output_type": "stream",
     "text": [
      "100 is the largest number.\n"
     ]
    }
   ],
   "source": [
    "#Q6. Python program to find the largest element among three Numbers ?\n",
    "\n",
    "num1 = 100\n",
    "num2 = 50 \n",
    "num3 = 15\n",
    " \n",
    "if num1>num2:\n",
    "    if num1>num3:\n",
    "        print(num1,\"is the largest number.\")\n",
    "    else:\n",
    "        print(num3,\"is the largest number.\")\n",
    "    \n",
    "elif num2>num1:\n",
    "    if num2>num3:\n",
    "        print(num2,\"is the largest number.\")\n",
    "    else:\n",
    "        print(num3,\"is the largest number.\")\n",
    "else:\n",
    "     print(num3,\"is the largest number.\")"
   ]
  },
  {
   "cell_type": "code",
   "execution_count": null,
   "id": "6e82fec3",
   "metadata": {},
   "outputs": [],
   "source": [
    "#07. Write a program to accept a number from 1 to 12 and display name of the month and days in that month\n",
    "#like 1 for January and number of days 31 and so on\n"
   ]
  },
  {
   "cell_type": "code",
   "execution_count": null,
   "id": "312a7f96",
   "metadata": {},
   "outputs": [],
   "source": [
    "#07. Write a program to accept a number from 1 to 12 and display name of the month and days in that month like 1 for January\n",
    "#and number of days 31 and so on\n",
    "n=int(input(\"Enter the number from 1 to 12:\"))\n",
    "\n",
    "if n==1:\n",
    "    print(\"This is the month of january and having 31 days.\")\n",
    "elif n==2:\n",
    "    print(\"This is the month of February and having 28 or 29 days.\")\n",
    "elif n==3:\n",
    "    print(\"This is the month of March and having 31 days.\")\n",
    "elif n==4:\n",
    "    print(\"This is the month of april and having 30 days.\")\n",
    "elif n==5:\n",
    "    print(\"This is the month of may and having 31 days.\")\n",
    "elif n==6:    \n",
    "    print(\"This is the month of june and having 30 days.\")\n",
    "elif n==7:    \n",
    "    print(\"This is the month of july and having 31 days.\")\n",
    "elif n==8:    \n",
    "    print(\"This is the month of august and having 31 days.\")\n",
    "elif n==9:    \n",
    "    print(\"This is the month of september and having 30 days.\")\n",
    "elif n==10:    \n",
    "    print(\"This is the month of october and having 31 days.\")\n",
    "elif n==11:    \n",
    "    print(\"This is the month of november and having 30 days.\")\n",
    "elif n==12:   \n",
    "    print(\"This is the month of december and having 31 days.\")\n",
    "else:\n",
    "    print(\"Invalid input.\")\n"
   ]
  }
 ],
 "metadata": {
  "kernelspec": {
   "display_name": "Python 3 (ipykernel)",
   "language": "python",
   "name": "python3"
  },
  "language_info": {
   "codemirror_mode": {
    "name": "ipython",
    "version": 3
   },
   "file_extension": ".py",
   "mimetype": "text/x-python",
   "name": "python",
   "nbconvert_exporter": "python",
   "pygments_lexer": "ipython3",
   "version": "3.9.7"
  }
 },
 "nbformat": 4,
 "nbformat_minor": 5
}
